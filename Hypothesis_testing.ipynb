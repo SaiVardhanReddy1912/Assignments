{
 "cells": [
  {
   "cell_type": "markdown",
   "metadata": {},
   "source": [
    "### STATEMENT OF HYPOTHESIS :\n",
    "\n",
    "1. Null Hypothesis (H₀)       : The weekly operating cost is not higher than the model suggests.\n",
    "2. Alternative Hypothesis (H₁): The weekly operating cost is higher than the model suggests.\n"
   ]
  },
  {
   "cell_type": "code",
   "execution_count": 4,
   "metadata": {},
   "outputs": [],
   "source": [
    "import numpy as np\n",
    "from scipy.stats import norm\n",
    "from  scipy import stats"
   ]
  },
  {
   "cell_type": "code",
   "execution_count": 5,
   "metadata": {},
   "outputs": [
    {
     "name": "stdout",
     "output_type": "stream",
     "text": [
      "\n",
      "Z-value: -38.0\n",
      "\n",
      "p_value is: 0.0\n",
      "\n",
      "Critical Value : 1.6448536269514722\n",
      "\n",
      "ho is rejected and h1 is accepted\n"
     ]
    }
   ],
   "source": [
    "# Given Data\n",
    "sample_mean = 3050\n",
    "theoretical_mean = 1000 + 5*600\n",
    "sample_size = 25\n",
    "std_dev = 125\n",
    "alpha = 0.05\n",
    "\n",
    "# Calculate the Z-value\n",
    "z_value = (sample_mean - theoretical_mean) / (std_dev / np.sqrt(sample_size))\n",
    "print(\"\\nZ-value:\", z_value) \n",
    "\n",
    "pvalue = stats.norm.cdf(z_value)\n",
    "print(\"\\np_value is:\",pvalue)\n",
    "\n",
    "# Determine the critical value for alpha = 0.05 (one-tailed test)\n",
    "alpha = 0.05\n",
    "critical_value = norm.ppf(1 - alpha)\n",
    "print(\"\\nCritical Value :\", critical_value)\n",
    "\n",
    "\n",
    "# Make a decision\n",
    "if pvalue < critical_value:\n",
    "    print(\"\\nho is rejected and h1 is accepted\")\n",
    "else:\n",
    "    print(\"\\nho is accepted and h1 is rejected\")"
   ]
  },
  {
   "cell_type": "markdown",
   "metadata": {},
   "source": [
    "## Conclusion\n",
    "    There is strong evidence to support the restaurant owners' claim that the weekly operating costs are higher than the model suggests."
   ]
  }
 ],
 "metadata": {
  "kernelspec": {
   "display_name": "base",
   "language": "python",
   "name": "python3"
  },
  "language_info": {
   "codemirror_mode": {
    "name": "ipython",
    "version": 3
   },
   "file_extension": ".py",
   "mimetype": "text/x-python",
   "name": "python",
   "nbconvert_exporter": "python",
   "pygments_lexer": "ipython3",
   "version": "3.11.7"
  }
 },
 "nbformat": 4,
 "nbformat_minor": 2
}
