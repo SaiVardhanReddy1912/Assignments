{
 "cells": [
  {
   "cell_type": "markdown",
   "id": "6c0c3990-466a-4199-a7d0-acff85fee3c2",
   "metadata": {},
   "source": [
    "#### Exercise 1: Prime Numbers"
   ]
  },
  {
   "cell_type": "code",
   "execution_count": 1,
   "id": "e6199cdd-659e-4620-9323-a84d8d28ca24",
   "metadata": {},
   "outputs": [
    {
     "name": "stdin",
     "output_type": "stream",
     "text": [
      "Enter a number: 99991\n"
     ]
    },
    {
     "name": "stdout",
     "output_type": "stream",
     "text": [
      "99991 is a prime number\n"
     ]
    }
   ],
   "source": [
    "num = int(input(\"Enter a number:\"))         # This line takes the input from the user and converts it into an integer.\n",
    "if num <= 1 :       # This line checks if the entered number is greater than 1 or not.\n",
    "    print(\"Please enter a number i.e., greater than 1\") \n",
    "else:\n",
    "    for i in range(2,num):   # This line iterates the values from 2 to n-1.\n",
    "          if num % i == 0:   # This line checks if the number is divisible by any 'i' value or not.\n",
    "            print(num ,\"is not a prime number\")\n",
    "            break  # This line breaks the loop when the condition satisfies.\n",
    "    else:\n",
    "        print(num ,\"is a prime number\")"
   ]
  },
  {
   "cell_type": "markdown",
   "id": "0da2ed49-6b3b-480b-943b-4a101f151124",
   "metadata": {},
   "source": [
    "#### Exercise 2: Product of Random Numbers"
   ]
  },
  {
   "cell_type": "code",
   "execution_count": 2,
   "id": "2651683e-4976-4b06-a07f-264a35e0af72",
   "metadata": {},
   "outputs": [
    {
     "name": "stdout",
     "output_type": "stream",
     "text": [
      "Product of  6 and  -6 is :\n"
     ]
    },
    {
     "name": "stdin",
     "output_type": "stream",
     "text": [
      " -36\n"
     ]
    },
    {
     "name": "stdout",
     "output_type": "stream",
     "text": [
      "Correct answer\n"
     ]
    }
   ],
   "source": [
    "import random\n",
    "\n",
    "x = random.randint(-10,10) # generates random values between -10 to 10.\n",
    "y = random.randint(-10,10)\n",
    "print(\"Product of \",x ,\"and \",y ,\"is :\")\n",
    "z = int(input())  # Takes the input from the user in integer and stored it in 'z'.\n",
    "if z == x*y:      # checks the condition.\n",
    "    print(\"Correct answer\")\n",
    "else:\n",
    "    print(\"Wrong answer\")\n"
   ]
  },
  {
   "cell_type": "markdown",
   "id": "dfa29e84-f7a0-4286-8246-0da38ebbf6fb",
   "metadata": {},
   "source": [
    "#### Exercise 3: Squares of Even/Odd Numers"
   ]
  },
  {
   "cell_type": "code",
   "execution_count": 3,
   "id": "37dc2ff0-87a3-4432-be87-38a21627e896",
   "metadata": {},
   "outputs": [
    {
     "name": "stdout",
     "output_type": "stream",
     "text": [
      "Squares of Even numbers between 100 and 200 :\n",
      "100 squared is 10000\n",
      "102 squared is 10404\n",
      "104 squared is 10816\n",
      "106 squared is 11236\n",
      "108 squared is 11664\n",
      "110 squared is 12100\n",
      "112 squared is 12544\n",
      "114 squared is 12996\n",
      "116 squared is 13456\n",
      "118 squared is 13924\n",
      "120 squared is 14400\n",
      "122 squared is 14884\n",
      "124 squared is 15376\n",
      "126 squared is 15876\n",
      "128 squared is 16384\n",
      "130 squared is 16900\n",
      "132 squared is 17424\n",
      "134 squared is 17956\n",
      "136 squared is 18496\n",
      "138 squared is 19044\n",
      "140 squared is 19600\n",
      "142 squared is 20164\n",
      "144 squared is 20736\n",
      "146 squared is 21316\n",
      "148 squared is 21904\n",
      "150 squared is 22500\n",
      "152 squared is 23104\n",
      "154 squared is 23716\n",
      "156 squared is 24336\n",
      "158 squared is 24964\n",
      "160 squared is 25600\n",
      "162 squared is 26244\n",
      "164 squared is 26896\n",
      "166 squared is 27556\n",
      "168 squared is 28224\n",
      "170 squared is 28900\n",
      "172 squared is 29584\n",
      "174 squared is 30276\n",
      "176 squared is 30976\n",
      "178 squared is 31684\n",
      "180 squared is 32400\n",
      "182 squared is 33124\n",
      "184 squared is 33856\n",
      "186 squared is 34596\n",
      "188 squared is 35344\n",
      "190 squared is 36100\n",
      "192 squared is 36864\n",
      "194 squared is 37636\n",
      "196 squared is 38416\n",
      "198 squared is 39204\n",
      "200 squared is 40000\n"
     ]
    }
   ],
   "source": [
    "print(\"Squares of Even numbers between 100 and 200 :\")\n",
    "for i in range(100,201): # Iterates the values from 100 to 200.\n",
    "    if i % 2 == 0:  # Gives only even numbers\n",
    "        print(i,\"squared is\",i**2) # Prints the squared values."
   ]
  },
  {
   "cell_type": "markdown",
   "id": "3a783a07-aa6d-4867-b849-5a7464bb8f69",
   "metadata": {},
   "source": [
    "#### Exercise 4: Word Counter"
   ]
  },
  {
   "cell_type": "code",
   "execution_count": 4,
   "id": "033886f0-eab9-4dd4-b8ab-ff85471c8c6b",
   "metadata": {},
   "outputs": [
    {
     "name": "stdout",
     "output_type": "stream",
     "text": [
      "this = 2\n",
      "is = 1\n",
      "a = 1\n",
      "sample = 1\n",
      "text = 2\n",
      "will = 1\n",
      "be = 1\n",
      "used = 1\n",
      "to = 1\n",
      "demonstrate = 1\n",
      "the = 1\n",
      "word = 1\n",
      "counter = 1\n"
     ]
    }
   ],
   "source": [
    "def word_count_occurrances(text):\n",
    "    word_counts = {}\n",
    "    words = text.lower().split()    # Converts the text into lower case and split the text. \n",
    "    for word in words:\n",
    "        word = word.strip(\",.!?:;\")  # Removes the Puntuation.\n",
    "        \n",
    "        if word not in word_counts:  \n",
    "            word_counts[word] = 1\n",
    "        else:\n",
    "            word_counts[word] += 1\n",
    "    return word_counts\n",
    "    \n",
    "input_text = (\"This is a sample text. This text will be used to demonstrate the word counter.\")\n",
    "word_counts = word_count_occurrances(input_text)\n",
    "\n",
    "for word, count in word_counts.items():\n",
    "    print(f\"{word} = {count}\")"
   ]
  },
  {
   "cell_type": "markdown",
   "id": "a424df10-508d-4597-b4c3-276b1f1d4ce7",
   "metadata": {},
   "source": [
    "#### Exercise 5: Check for Palindrome"
   ]
  },
  {
   "cell_type": "code",
   "execution_count": 6,
   "id": "04ade417-8bb5-47de-8c17-def1d5575d70",
   "metadata": {},
   "outputs": [
    {
     "name": "stdin",
     "output_type": "stream",
     "text": [
      "Enter the text: \"Mr. Owl ate my metal worm\n"
     ]
    },
    {
     "data": {
      "text/plain": [
       "True"
      ]
     },
     "execution_count": 6,
     "metadata": {},
     "output_type": "execute_result"
    }
   ],
   "source": [
    "def is_palindrome(text):\n",
    "    text = text.lower()   # Converts the text in lower case.\n",
    "    text = ' '.join(char for char in text if char.isalnum())  # Removes spaces and joins the text into a char\n",
    "    if text == text[::-1]:\n",
    "        return True\n",
    "    else:\n",
    "        return False\n",
    "text = input(\"Enter the text:\")\n",
    "is_palindrome(text)\n"
   ]
  },
  {
   "cell_type": "code",
   "execution_count": null,
   "id": "73365e09-bf73-4fd8-8b94-770603ebfa20",
   "metadata": {},
   "outputs": [],
   "source": []
  }
 ],
 "metadata": {
  "kernelspec": {
   "display_name": "Python 3 (ipykernel)",
   "language": "python",
   "name": "python3"
  },
  "language_info": {
   "codemirror_mode": {
    "name": "ipython",
    "version": 3
   },
   "file_extension": ".py",
   "mimetype": "text/x-python",
   "name": "python",
   "nbconvert_exporter": "python",
   "pygments_lexer": "ipython3",
   "version": "3.11.7"
  }
 },
 "nbformat": 4,
 "nbformat_minor": 5
}
