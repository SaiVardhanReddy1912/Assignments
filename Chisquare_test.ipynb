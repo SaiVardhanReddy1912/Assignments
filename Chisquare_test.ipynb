{
 "cells": [
  {
   "cell_type": "markdown",
   "id": "92434b3b-5b76-415a-a46e-b51745d294e9",
   "metadata": {},
   "source": [
    "#### State the Hypothesis:\n",
    "- Null Hypothesis (H₀): There is no significant association between the type of smart home device purchased (Smart Thermostats vs. Smart Lights) and the customer satisfaction level.\n",
    "- Alternative Hypothesis (H₁): There is a significant association between the type of smart home device purchased (Smart Thermostats vs. Smart Lights) and the customer satisfaction level."
   ]
  },
  {
   "cell_type": "code",
   "execution_count": 1,
   "id": "7ac01c83-b823-4679-ab5d-7ab6546ae439",
   "metadata": {},
   "outputs": [
    {
     "data": {
      "text/plain": [
       "\"' given data\\nThe data is summarized in a contingency table showing the counts of customers in each satisfaction level for both types of devices:\\nSatisfaction\\tSmart Thermostat\\tSmart Light\\tTotal\\nVery Satisfied\\t50\\t70\\t120\\nSatisfied\\t80\\t100\\t180\\nNeutral\\t60\\t90\\t150\\nUnsatisfied\\t30\\t50\\t80\\nVery Unsatisfied\\t20\\t50\\t70\\nTotal\\t240\\t360\\t600\\n\""
      ]
     },
     "execution_count": 1,
     "metadata": {},
     "output_type": "execute_result"
    }
   ],
   "source": [
    "'''' given data\n",
    "The data is summarized in a contingency table showing the counts of customers in each satisfaction level for both types of devices:\n",
    "Satisfaction\tSmart Thermostat\tSmart Light\tTotal\n",
    "Very Satisfied\t50\t70\t120\n",
    "Satisfied\t80\t100\t180\n",
    "Neutral\t60\t90\t150\n",
    "Unsatisfied\t30\t50\t80\n",
    "Very Unsatisfied\t20\t50\t70\n",
    "Total\t240\t360\t600\n",
    "'''"
   ]
  },
  {
   "cell_type": "markdown",
   "id": "4999702d-2418-4772-813f-3f1592ee01ac",
   "metadata": {},
   "source": [
    "## Chisquare test:"
   ]
  },
  {
   "cell_type": "code",
   "execution_count": 2,
   "id": "90f7d378-297e-4ada-b23e-d2f651e538e6",
   "metadata": {},
   "outputs": [],
   "source": [
    "import numpy as np\n",
    "import pandas as pd\n",
    "data = np.array([[50, 70],[80, 100],[60, 90],[30, 50],[20, 50]])"
   ]
  },
  {
   "cell_type": "code",
   "execution_count": 3,
   "id": "c2e32b97-d5cb-4008-8452-eed72c1db86f",
   "metadata": {},
   "outputs": [
    {
     "name": "stdout",
     "output_type": "stream",
     "text": [
      "Contingency Table:\n",
      "                  Smart Thermostat  Smart Light\n",
      "Very Satisfied                  50           70\n",
      "Satisfied                       80          100\n",
      "Neutral                         60           90\n",
      "Unsatisfied                     30           50\n",
      "Very Unsatisfied                20           50\n"
     ]
    }
   ],
   "source": [
    "#generating the dataframe by using given data\n",
    "df = pd.DataFrame(data, columns=['Smart Thermostat', 'Smart Light'], index=['Very Satisfied', 'Satisfied', 'Neutral', 'Unsatisfied', 'Very Unsatisfied'])\n",
    "print(\"Contingency Table:\")\n",
    "print(df)"
   ]
  },
  {
   "cell_type": "code",
   "execution_count": 4,
   "id": "c54bd6cf-2ea6-4307-8a17-4ce00370036f",
   "metadata": {},
   "outputs": [],
   "source": [
    "import researchpy as rp"
   ]
  },
  {
   "cell_type": "code",
   "execution_count": 5,
   "id": "9c2add52-0a9b-450d-aa97-c4ffa97b6c49",
   "metadata": {},
   "outputs": [
    {
     "name": "stderr",
     "output_type": "stream",
     "text": [
      "c:\\Users\\SAI VARDHAN REDDY\\anaconda3\\anaconda\\Lib\\site-packages\\researchpy\\crosstab.py:146: FutureWarning: Setting an item of incompatible dtype is deprecated and will raise in a future error of pandas. Value 'Pearson Chi-square ( 12.0) = ' has dtype incompatible with float64, please explicitly cast to a compatible dtype first.\n",
      "  table.iloc[0,0] = f\"Pearson Chi-square ({dof: .1f}) = \"\n"
     ]
    }
   ],
   "source": [
    "#calculating the chi square table\n",
    "table, results = rp.crosstab(df['Smart Thermostat'], df[\"Smart Light\"], test='chi-square')"
   ]
  },
  {
   "cell_type": "code",
   "execution_count": 6,
   "id": "b9ff692a-aaed-45bc-9acc-dfc95683b5b6",
   "metadata": {},
   "outputs": [
    {
     "data": {
      "text/html": [
       "<div>\n",
       "<style scoped>\n",
       "    .dataframe tbody tr th:only-of-type {\n",
       "        vertical-align: middle;\n",
       "    }\n",
       "\n",
       "    .dataframe tbody tr th {\n",
       "        vertical-align: top;\n",
       "    }\n",
       "\n",
       "    .dataframe thead tr th {\n",
       "        text-align: left;\n",
       "    }\n",
       "\n",
       "    .dataframe thead tr:last-of-type th {\n",
       "        text-align: right;\n",
       "    }\n",
       "</style>\n",
       "<table border=\"1\" class=\"dataframe\">\n",
       "  <thead>\n",
       "    <tr>\n",
       "      <th></th>\n",
       "      <th colspan=\"5\" halign=\"left\">Smart Light</th>\n",
       "    </tr>\n",
       "    <tr>\n",
       "      <th>Smart Light</th>\n",
       "      <th>50</th>\n",
       "      <th>70</th>\n",
       "      <th>90</th>\n",
       "      <th>100</th>\n",
       "      <th>All</th>\n",
       "    </tr>\n",
       "    <tr>\n",
       "      <th>Smart Thermostat</th>\n",
       "      <th></th>\n",
       "      <th></th>\n",
       "      <th></th>\n",
       "      <th></th>\n",
       "      <th></th>\n",
       "    </tr>\n",
       "  </thead>\n",
       "  <tbody>\n",
       "    <tr>\n",
       "      <th>20</th>\n",
       "      <td>1</td>\n",
       "      <td>0</td>\n",
       "      <td>0</td>\n",
       "      <td>0</td>\n",
       "      <td>1</td>\n",
       "    </tr>\n",
       "    <tr>\n",
       "      <th>30</th>\n",
       "      <td>1</td>\n",
       "      <td>0</td>\n",
       "      <td>0</td>\n",
       "      <td>0</td>\n",
       "      <td>1</td>\n",
       "    </tr>\n",
       "    <tr>\n",
       "      <th>50</th>\n",
       "      <td>0</td>\n",
       "      <td>1</td>\n",
       "      <td>0</td>\n",
       "      <td>0</td>\n",
       "      <td>1</td>\n",
       "    </tr>\n",
       "    <tr>\n",
       "      <th>60</th>\n",
       "      <td>0</td>\n",
       "      <td>0</td>\n",
       "      <td>1</td>\n",
       "      <td>0</td>\n",
       "      <td>1</td>\n",
       "    </tr>\n",
       "    <tr>\n",
       "      <th>80</th>\n",
       "      <td>0</td>\n",
       "      <td>0</td>\n",
       "      <td>0</td>\n",
       "      <td>1</td>\n",
       "      <td>1</td>\n",
       "    </tr>\n",
       "    <tr>\n",
       "      <th>All</th>\n",
       "      <td>2</td>\n",
       "      <td>1</td>\n",
       "      <td>1</td>\n",
       "      <td>1</td>\n",
       "      <td>5</td>\n",
       "    </tr>\n",
       "  </tbody>\n",
       "</table>\n",
       "</div>"
      ],
      "text/plain": [
       "                 Smart Light              \n",
       "Smart Light               50 70 90 100 All\n",
       "Smart Thermostat                          \n",
       "20                         1  0  0   0   1\n",
       "30                         1  0  0   0   1\n",
       "50                         0  1  0   0   1\n",
       "60                         0  0  1   0   1\n",
       "80                         0  0  0   1   1\n",
       "All                        2  1  1   1   5"
      ]
     },
     "execution_count": 6,
     "metadata": {},
     "output_type": "execute_result"
    }
   ],
   "source": [
    "table "
   ]
  },
  {
   "cell_type": "code",
   "execution_count": 7,
   "id": "7c0a4121-e92a-4c6c-8f4f-3d77cd7fc0e5",
   "metadata": {},
   "outputs": [
    {
     "data": {
      "text/html": [
       "<div>\n",
       "<style scoped>\n",
       "    .dataframe tbody tr th:only-of-type {\n",
       "        vertical-align: middle;\n",
       "    }\n",
       "\n",
       "    .dataframe tbody tr th {\n",
       "        vertical-align: top;\n",
       "    }\n",
       "\n",
       "    .dataframe thead th {\n",
       "        text-align: right;\n",
       "    }\n",
       "</style>\n",
       "<table border=\"1\" class=\"dataframe\">\n",
       "  <thead>\n",
       "    <tr style=\"text-align: right;\">\n",
       "      <th></th>\n",
       "      <th>Chi-square test</th>\n",
       "      <th>results</th>\n",
       "    </tr>\n",
       "  </thead>\n",
       "  <tbody>\n",
       "    <tr>\n",
       "      <th>0</th>\n",
       "      <td>Pearson Chi-square ( 12.0) =</td>\n",
       "      <td>15.0000</td>\n",
       "    </tr>\n",
       "    <tr>\n",
       "      <th>1</th>\n",
       "      <td>p-value =</td>\n",
       "      <td>0.2414</td>\n",
       "    </tr>\n",
       "    <tr>\n",
       "      <th>2</th>\n",
       "      <td>Cramer's V =</td>\n",
       "      <td>1.0000</td>\n",
       "    </tr>\n",
       "  </tbody>\n",
       "</table>\n",
       "</div>"
      ],
      "text/plain": [
       "                 Chi-square test  results\n",
       "0  Pearson Chi-square ( 12.0) =   15.0000\n",
       "1                     p-value =    0.2414\n",
       "2                  Cramer's V =    1.0000"
      ]
     },
     "execution_count": 7,
     "metadata": {},
     "output_type": "execute_result"
    }
   ],
   "source": [
    "results # Results of the chi-square test"
   ]
  },
  {
   "cell_type": "code",
   "execution_count": 8,
   "id": "b02c6277-c115-4991-ad8b-ec742304096d",
   "metadata": {},
   "outputs": [
    {
     "data": {
      "text/plain": [
       "21.0261"
      ]
     },
     "execution_count": 8,
     "metadata": {},
     "output_type": "execute_result"
    }
   ],
   "source": [
    "import scipy.stats as stats\n",
    "chi_table = stats.chi2.ppf(q = 0.95, df = 12)\n",
    "chi_table.round(4)"
   ]
  },
  {
   "cell_type": "code",
   "execution_count": 9,
   "id": "8a19e973-e3c9-489d-be3b-34c3cfd7cd76",
   "metadata": {},
   "outputs": [],
   "source": [
    "pval=0.2414 #considering p value using above results\n",
    "alpha=0.05"
   ]
  },
  {
   "cell_type": "code",
   "execution_count": 10,
   "id": "359db5c8-6e64-45b8-ba50-04cf6b2299e1",
   "metadata": {},
   "outputs": [
    {
     "name": "stdout",
     "output_type": "stream",
     "text": [
      "critical value is : 1.6448536269514722\n"
     ]
    }
   ],
   "source": [
    "#caluculate the critical value\n",
    "critical_value=stats.norm.ppf(1-alpha)\n",
    "print(\"critical value is :\",critical_value)#prints the critical value"
   ]
  },
  {
   "cell_type": "code",
   "execution_count": 11,
   "id": "0bc84b67-98aa-4958-8e18-988e778b177d",
   "metadata": {},
   "outputs": [
    {
     "name": "stdout",
     "output_type": "stream",
     "text": [
      "h1 is accepted and ho is rejected\n"
     ]
    }
   ],
   "source": [
    "if pval<critical_value:\n",
    "    print(\"h1 is accepted and ho is rejected\")\n",
    "else:\n",
    "    print(\"ho is accepted and h1 is rejected\")"
   ]
  },
  {
   "cell_type": "markdown",
   "id": "9251f4dc-b2dd-44c3-ae97-2e47d9581487",
   "metadata": {},
   "source": [
    "#### CONCLUSION: \n",
    "    There is a significant association between the type of smart home device purchased and the customer satisfaction level"
   ]
  }
 ],
 "metadata": {
  "kernelspec": {
   "display_name": "Python 3 (ipykernel)",
   "language": "python",
   "name": "python3"
  },
  "language_info": {
   "codemirror_mode": {
    "name": "ipython",
    "version": 3
   },
   "file_extension": ".py",
   "mimetype": "text/x-python",
   "name": "python",
   "nbconvert_exporter": "python",
   "pygments_lexer": "ipython3",
   "version": "3.11.7"
  }
 },
 "nbformat": 4,
 "nbformat_minor": 5
}
