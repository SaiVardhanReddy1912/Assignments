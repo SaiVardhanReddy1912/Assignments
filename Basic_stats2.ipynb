{
 "cells": [
  {
   "cell_type": "code",
   "execution_count": 1,
   "metadata": {},
   "outputs": [
    {
     "data": {
      "text/plain": [
       "15"
      ]
     },
     "execution_count": 1,
     "metadata": {},
     "output_type": "execute_result"
    }
   ],
   "source": [
    "# Sample data \n",
    "data = [1.13, 1.55, 1.43, 0.92, 1.25, 1.36, 1.32, 0.85, 1.07, 1.48, 1.20, 1.33, 1.18, 1.22, 1.29]\n",
    "len(data)"
   ]
  },
  {
   "cell_type": "code",
   "execution_count": 2,
   "metadata": {},
   "outputs": [],
   "source": [
    "# Calculate sample mean and standard deviation\n",
    "import statistics\n",
    "\n",
    "mean = statistics.mean(data)\n",
    "std_dev = statistics.stdev(data)"
   ]
  },
  {
   "cell_type": "code",
   "execution_count": 3,
   "metadata": {},
   "outputs": [],
   "source": [
    "# Define sample size and confidence level\n",
    "sample_size = 15\n",
    "confidence_level = 0.99"
   ]
  },
  {
   "cell_type": "code",
   "execution_count": 4,
   "metadata": {},
   "outputs": [
    {
     "data": {
      "text/plain": [
       "14"
      ]
     },
     "execution_count": 4,
     "metadata": {},
     "output_type": "execute_result"
    }
   ],
   "source": [
    "# Degrees of freedom\n",
    "degrees_of_freedom = 15 - 1\n",
    "degrees_of_freedom\n"
   ]
  },
  {
   "cell_type": "code",
   "execution_count": 5,
   "metadata": {},
   "outputs": [],
   "source": [
    "# Look up t-value (critical value) from a t-distribution table\n",
    "from scipy.stats import t\n",
    "\n",
    "alpha = 1 - confidence_level  # alpha for two-tailed test\n",
    "t_value = t.ppf(1 - alpha / 2, degrees_of_freedom)  "
   ]
  },
  {
   "cell_type": "code",
   "execution_count": 6,
   "metadata": {},
   "outputs": [],
   "source": [
    "# Calculate margin of error\n",
    "margin_of_error = t_value * (std_dev / sample_size**0.5)"
   ]
  },
  {
   "cell_type": "code",
   "execution_count": 7,
   "metadata": {},
   "outputs": [],
   "source": [
    "# Confidence interval bounds\n",
    "lower_bound = mean - margin_of_error\n",
    "upper_bound = mean + margin_of_error"
   ]
  },
  {
   "cell_type": "code",
   "execution_count": 8,
   "metadata": {},
   "outputs": [
    {
     "name": "stdout",
     "output_type": "stream",
     "text": [
      "Sample Mean: 1.2387 \n",
      "Sample Standard Deviation: 0.1932 \n",
      "Confidence Level: 99%\n",
      "Degrees of Freedom: 14\n",
      "Margin of Error: 0.1485 \n",
      "99% Confidence Interval: (1.0902, 1.3871) \n"
     ]
    }
   ],
   "source": [
    "# Print the results\n",
    "print(f\"Sample Mean: {mean:.4f} \")\n",
    "print(f\"Sample Standard Deviation: {std_dev:.4f} \")\n",
    "print(f\"Confidence Level: {confidence_level:.0%}\")\n",
    "print(f\"Degrees of Freedom: {degrees_of_freedom}\")\n",
    "print(f\"Margin of Error: {margin_of_error:.4f} \")\n",
    "print(f\"99% Confidence Interval: ({lower_bound:.4f}, {upper_bound:.4f}) \")"
   ]
  },
  {
   "cell_type": "code",
   "execution_count": 9,
   "metadata": {},
   "outputs": [],
   "source": [
    "# Sample data \n",
    "data = [1.13, 1.55, 1.43, 0.92, 1.25, 1.36, 1.32, 0.85, 1.07, 1.48, 1.20, 1.33, 1.18, 1.22, 1.29]"
   ]
  },
  {
   "cell_type": "code",
   "execution_count": 10,
   "metadata": {},
   "outputs": [],
   "source": [
    "# Population standard deviation (known)\n",
    "population_std_dev = 0.2  "
   ]
  },
  {
   "cell_type": "code",
   "execution_count": 11,
   "metadata": {},
   "outputs": [],
   "source": [
    "# Sample size\n",
    "sample_size = 15"
   ]
  },
  {
   "cell_type": "code",
   "execution_count": 12,
   "metadata": {},
   "outputs": [],
   "source": [
    "# Confidence level\n",
    "confidence_level = 0.99\n"
   ]
  },
  {
   "cell_type": "code",
   "execution_count": 13,
   "metadata": {},
   "outputs": [],
   "source": [
    "# Assuming a two-tailed confidence interval is desired, \n",
    "from scipy.stats import norm  # library for normal distribution functions\n",
    "alpha = 1 - confidence_level  # alpha for two-tailed test\n",
    "z_score = norm.ppf(1 - alpha / 2) "
   ]
  },
  {
   "cell_type": "code",
   "execution_count": 14,
   "metadata": {},
   "outputs": [],
   "source": [
    "# Margin of error\n",
    "margin_of_error = z_score * population_std_dev / sample_size**0.5"
   ]
  },
  {
   "cell_type": "code",
   "execution_count": 15,
   "metadata": {},
   "outputs": [],
   "source": [
    "# Calculate the sample mean \n",
    "total = sum(data)\n",
    "sample_mean = total / sample_size"
   ]
  },
  {
   "cell_type": "code",
   "execution_count": 16,
   "metadata": {},
   "outputs": [],
   "source": [
    "# Confidence interval bounds\n",
    "lower_bound = sample_mean - margin_of_error\n",
    "upper_bound = sample_mean + margin_of_error\n"
   ]
  },
  {
   "cell_type": "code",
   "execution_count": 17,
   "metadata": {},
   "outputs": [
    {
     "name": "stdout",
     "output_type": "stream",
     "text": [
      "Sample Mean: 1.2387 \n",
      "Population Standard Deviation: 0.20 \n",
      "Confidence Level: 99%\n",
      "Critical Value (z-score): 2.5758\n",
      "Margin of Error: 0.1330 \n",
      "99% Confidence Interval: (1.1057, 1.3717) \n"
     ]
    }
   ],
   "source": [
    "\n",
    "# Print the results\n",
    "print(f\"Sample Mean: {sample_mean:.4f} \")\n",
    "print(f\"Population Standard Deviation: {population_std_dev:.2f} \")\n",
    "print(f\"Confidence Level: {confidence_level:.0%}\")\n",
    "print(f\"Critical Value (z-score): {z_score:.4f}\")\n",
    "print(f\"Margin of Error: {margin_of_error:.4f} \")\n",
    "print(f\"99% Confidence Interval: ({lower_bound:.4f}, {upper_bound:.4f}) \")\n"
   ]
  }
 ],
 "metadata": {
  "kernelspec": {
   "display_name": "Python 3",
   "language": "python",
   "name": "python3"
  },
  "language_info": {
   "codemirror_mode": {
    "name": "ipython",
    "version": 3
   },
   "file_extension": ".py",
   "mimetype": "text/x-python",
   "name": "python",
   "nbconvert_exporter": "python",
   "pygments_lexer": "ipython3",
   "version": "3.11.7"
  }
 },
 "nbformat": 4,
 "nbformat_minor": 2
}
